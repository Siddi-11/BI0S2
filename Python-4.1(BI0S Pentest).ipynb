{
 "cells": [
  {
   "cell_type": "code",
   "execution_count": 1,
   "id": "3b7e346f-4115-4e88-813d-ddeac208db8c",
   "metadata": {},
   "outputs": [
    {
     "name": "stdout",
     "output_type": "stream",
     "text": [
      "False\n",
      "False\n",
      "True\n"
     ]
    }
   ],
   "source": [
    "def is_palindrome(s):\n",
    "     cleaned = ''.join(char.lower() for char in s if char.isalnum())\n",
    "     return cleaned == cleaned[::-1]\n",
    "print(is_palindrome(\"Hello World!\")) #false\n",
    "print(is_palindrome(\"A Banana,Rotator\")) #false\n",
    "print(is_palindrome(\"Kayak\")) #true"
   ]
  },
  {
   "cell_type": "code",
   "execution_count": 3,
   "id": "0c85314c-c9e0-4d80-b5bc-ea417f03d864",
   "metadata": {},
   "outputs": [
    {
     "name": "stdout",
     "output_type": "stream",
     "text": [
      "[1, 2, 3, 4, 5]\n"
     ]
    }
   ],
   "source": [
    "def flatten_list(nested_list):\n",
    "    flat_list=[]\n",
    "    def flatten(element):\n",
    "        if isinstance(element, list):\n",
    "            for item in element:\n",
    "                flatten(item)\n",
    "        else:\n",
    "            flat_list.append(element)\n",
    "    flatten(nested_list)\n",
    "    return flat_list\n",
    "nested_list=[1,[2,[3,[4,[5]]]]]\n",
    "print(flatten_list(nested_list))"
   ]
  },
  {
   "cell_type": "code",
   "execution_count": 5,
   "id": "11bb270b-4222-49aa-a329-e5db8713cf23",
   "metadata": {},
   "outputs": [
    {
     "name": "stdout",
     "output_type": "stream",
     "text": [
      "True\n",
      "False\n"
     ]
    }
   ],
   "source": [
    "def are_anagrams(s1,s2):\n",
    "    s1= s1.replace(\" \",\" \").lower()\n",
    "    s2= s2.replace(\" \",\" \").lower()\n",
    "    return sorted(s1) == sorted(s2)\n",
    "print(are_anagrams(\"lampshade\",\"headlamps\"))\n",
    "print(are_anagrams(\"water\",\"bottle\"))"
   ]
  },
  {
   "cell_type": "code",
   "execution_count": 7,
   "id": "6bafbe81-bc1e-4510-b745-69fcaef8248f",
   "metadata": {},
   "outputs": [
    {
     "name": "stdout",
     "output_type": "stream",
     "text": [
      "2\n",
      "3\n"
     ]
    }
   ],
   "source": [
    "def count_vowels(s):\n",
    "    vowels= 'aeiou'\n",
    "    s = s.lower()\n",
    "    count=0\n",
    "    for vowel in vowels:\n",
    "        count += s.count(vowel)\n",
    "    return count\n",
    "print(count_vowels(\"siddi\"))\n",
    "print(count_vowels(\"ELEPHANT\"))"
   ]
  }
 ],
 "metadata": {
  "kernelspec": {
   "display_name": "Python 3 (ipykernel)",
   "language": "python",
   "name": "python3"
  },
  "language_info": {
   "codemirror_mode": {
    "name": "ipython",
    "version": 3
   },
   "file_extension": ".py",
   "mimetype": "text/x-python",
   "name": "python",
   "nbconvert_exporter": "python",
   "pygments_lexer": "ipython3",
   "version": "3.12.4"
  }
 },
 "nbformat": 4,
 "nbformat_minor": 5
}
